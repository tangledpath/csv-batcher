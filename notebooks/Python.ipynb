{
 "cells": [
  {
   "cell_type": "code",
   "execution_count": 1,
   "id": "22302e11-13c2-457f-9844-633e8b4e798c",
   "metadata": {},
   "outputs": [
    {
     "name": "stdout",
     "output_type": "stream",
     "text": [
      "Members of the queue:\n",
      "0 1 2 3 \n",
      "Size of the queue:\n",
      "4\n"
     ]
    }
   ],
   "source": [
    "  import queue\n",
    "  q = queue.Queue()\n",
    "  for n in range(4):\n",
    "      q.put(n)\n",
    "  print(\"Members of the queue:\")\n",
    "  for n in list(q.queue):\n",
    "      print(n, end=\" \")\n",
    "  print(\"\\nSize of the queue:\")\n",
    "  print(q.qsize())"
   ]
  },
  {
   "cell_type": "code",
   "execution_count": 5,
   "id": "3c1b375a-e662-49f7-bcce-99c4fe8191b2",
   "metadata": {},
   "outputs": [
    {
     "data": {
      "text/plain": [
       "[('once', 'upon'),\n",
       " ('upon', 'a'),\n",
       " ('a', 'time,'),\n",
       " ('time,', 'a'),\n",
       " ('a', 'boy'),\n",
       " ('boy', 'did'),\n",
       " ('did', 'something'),\n",
       " ('something', 'remarkable,'),\n",
       " ('remarkable,', 'and'),\n",
       " ('and', 'it'),\n",
       " ('it', 'was'),\n",
       " ('was', 'like'),\n",
       " ('like', 'nothing'),\n",
       " ('nothing', 'ever'),\n",
       " ('ever', 'seen.')]"
      ]
     },
     "execution_count": 5,
     "metadata": {},
     "output_type": "execute_result"
    }
   ],
   "source": [
    "def find_bigrams(str):\n",
    "    bigrams = []\n",
    "    words = str.split()\n",
    "    for i in range(len(words)-1):\n",
    "      bigrams.append((words[i].lower(), words[i+1].lower()))\n",
    "\n",
    "    return bigrams\n",
    "\n",
    "find_bigrams(\"Once upon a time, a boy did something remarkable, and it was like nothing ever seen.\")"
   ]
  },
  {
   "cell_type": "code",
   "execution_count": null,
   "id": "952913e0-63e5-488d-8ac2-8c2e52fd7019",
   "metadata": {},
   "outputs": [],
   "source": []
  }
 ],
 "metadata": {
  "kernelspec": {
   "display_name": "Python 3 (ipykernel)",
   "language": "python",
   "name": "python3"
  },
  "language_info": {
   "codemirror_mode": {
    "name": "ipython",
    "version": 3
   },
   "file_extension": ".py",
   "mimetype": "text/x-python",
   "name": "python",
   "nbconvert_exporter": "python",
   "pygments_lexer": "ipython3",
   "version": "3.12.1"
  }
 },
 "nbformat": 4,
 "nbformat_minor": 5
}
